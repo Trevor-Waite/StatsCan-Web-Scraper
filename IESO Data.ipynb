{
 "cells": [
  {
   "cell_type": "markdown",
   "metadata": {},
   "source": [
    "1.\tInstalling Cygwin. \n",
    "Further to downloading the compatible bit-version of Cygwin in your computer (32/64 bit), one of the reasons why the command line may not generate csv files with data is because there may a little installation missteps when setting up Cygwin. The following are some directions that you may follow in order to set the program properly and solve issues:\n",
    "\n",
    "-\tWhen prompt to the window “Available Download Sites” select the option “cygwin.mirrors.hoobly.com”\n",
    "\n",
    " \n",
    "\n",
    "\n",
    "\n",
    "\n",
    "\n",
    "\n",
    "\n",
    "\n",
    "\n",
    "\n",
    "\n",
    "\n",
    "\n",
    "-\tThen, at the step “Select Packages” during the installation process, Search for package “wget”, click on the web@default option and click on skip, and click next.\n",
    "\n",
    " \n",
    "\n",
    "2.\tUsing the full command line to extract data. The command line listed \n",
    "\n",
    "\n",
    "\n",
    "Run Cygwin terminal command: \n",
    "\n",
    "for year in `seq 2001 2018`;do for month in `seq 1 12`;do wget --content-disposition \"http://climate.weather.gc.ca/climate_data/bulk_data_e.html?format=csv&stationID=31688&Year=${year}&Month=${month}&Day=14&timeframe=1&submit= Download+Data\" ;done;done\n",
    "\n",
    "Copy data from c:\\cygwin64\\bin to data\n",
    "\n",
    "Run notebook cells below"
   ]
  },
  {
   "cell_type": "markdown",
   "metadata": {},
   "source": [
    "https://www.reddit.com/r/Python/comments/52sw9q/opening_a_cygwin_terminal_with_a_python_script/"
   ]
  },
  {
   "cell_type": "markdown",
   "metadata": {},
   "source": [
    "find way to change cygwin download directory to data directory"
   ]
  },
  {
   "cell_type": "code",
   "execution_count": 1,
   "metadata": {},
   "outputs": [],
   "source": [
    "import pandas as pd\n",
    "import numpy as np\n",
    "import sys, os, subprocess"
   ]
  },
  {
   "cell_type": "code",
   "execution_count": 2,
   "metadata": {},
   "outputs": [],
   "source": [
    "root = 'ieso_data/'\n",
    "filenames = []\n",
    "\n",
    "for path, subdirs, files in os.walk(root):\n",
    "    for name in files:\n",
    "        filenames.append(os.path.join(path, name))"
   ]
  },
  {
   "cell_type": "code",
   "execution_count": 3,
   "metadata": {},
   "outputs": [
    {
     "data": {
      "text/plain": [
       "['ieso_data/PUB_Demand_2002.csv',\n",
       " 'ieso_data/PUB_Demand_2003.csv',\n",
       " 'ieso_data/PUB_Demand_2004.csv',\n",
       " 'ieso_data/PUB_Demand_2005.csv',\n",
       " 'ieso_data/PUB_Demand_2006.csv']"
      ]
     },
     "execution_count": 3,
     "metadata": {},
     "output_type": "execute_result"
    }
   ],
   "source": [
    "filenames[0:5]"
   ]
  },
  {
   "cell_type": "code",
   "execution_count": 4,
   "metadata": {},
   "outputs": [],
   "source": [
    "df = pd.concat( [ pd.read_csv(f,skiprows=3) for f in filenames ] )"
   ]
  },
  {
   "cell_type": "code",
   "execution_count": 6,
   "metadata": {},
   "outputs": [
    {
     "data": {
      "text/html": [
       "<div>\n",
       "<style scoped>\n",
       "    .dataframe tbody tr th:only-of-type {\n",
       "        vertical-align: middle;\n",
       "    }\n",
       "\n",
       "    .dataframe tbody tr th {\n",
       "        vertical-align: top;\n",
       "    }\n",
       "\n",
       "    .dataframe thead th {\n",
       "        text-align: right;\n",
       "    }\n",
       "</style>\n",
       "<table border=\"1\" class=\"dataframe\">\n",
       "  <thead>\n",
       "    <tr style=\"text-align: right;\">\n",
       "      <th></th>\n",
       "      <th>Date</th>\n",
       "      <th>Hour</th>\n",
       "      <th>Market Demand</th>\n",
       "      <th>Ontario Demand</th>\n",
       "    </tr>\n",
       "  </thead>\n",
       "  <tbody>\n",
       "    <tr>\n",
       "      <th>0</th>\n",
       "      <td>2002-05-01</td>\n",
       "      <td>1</td>\n",
       "      <td>14141</td>\n",
       "      <td>14137</td>\n",
       "    </tr>\n",
       "    <tr>\n",
       "      <th>1</th>\n",
       "      <td>2002-05-01</td>\n",
       "      <td>2</td>\n",
       "      <td>13876</td>\n",
       "      <td>13872</td>\n",
       "    </tr>\n",
       "    <tr>\n",
       "      <th>2</th>\n",
       "      <td>2002-05-01</td>\n",
       "      <td>3</td>\n",
       "      <td>13974</td>\n",
       "      <td>13820</td>\n",
       "    </tr>\n",
       "    <tr>\n",
       "      <th>3</th>\n",
       "      <td>2002-05-01</td>\n",
       "      <td>4</td>\n",
       "      <td>13898</td>\n",
       "      <td>13744</td>\n",
       "    </tr>\n",
       "    <tr>\n",
       "      <th>4</th>\n",
       "      <td>2002-05-01</td>\n",
       "      <td>5</td>\n",
       "      <td>14378</td>\n",
       "      <td>14224</td>\n",
       "    </tr>\n",
       "  </tbody>\n",
       "</table>\n",
       "</div>"
      ],
      "text/plain": [
       "         Date  Hour  Market Demand  Ontario Demand\n",
       "0  2002-05-01     1          14141           14137\n",
       "1  2002-05-01     2          13876           13872\n",
       "2  2002-05-01     3          13974           13820\n",
       "3  2002-05-01     4          13898           13744\n",
       "4  2002-05-01     5          14378           14224"
      ]
     },
     "execution_count": 6,
     "metadata": {},
     "output_type": "execute_result"
    }
   ],
   "source": [
    "df.head()"
   ]
  },
  {
   "cell_type": "code",
   "execution_count": 7,
   "metadata": {},
   "outputs": [
    {
     "name": "stdout",
     "output_type": "stream",
     "text": [
      "<class 'pandas.core.frame.DataFrame'>\n",
      "Int64Index: 141168 entries, 0 to 3791\n",
      "Data columns (total 4 columns):\n",
      "Date              141168 non-null object\n",
      "Hour              141168 non-null int64\n",
      "Market Demand     141168 non-null int64\n",
      "Ontario Demand    141168 non-null int64\n",
      "dtypes: int64(3), object(1)\n",
      "memory usage: 5.4+ MB\n"
     ]
    }
   ],
   "source": [
    "df.info()"
   ]
  },
  {
   "cell_type": "code",
   "execution_count": 8,
   "metadata": {},
   "outputs": [],
   "source": [
    "df.to_csv('IESO_data_2002_2018.csv')"
   ]
  },
  {
   "cell_type": "code",
   "execution_count": null,
   "metadata": {},
   "outputs": [],
   "source": []
  }
 ],
 "metadata": {
  "kernelspec": {
   "display_name": "Python 3",
   "language": "python",
   "name": "python3"
  },
  "language_info": {
   "codemirror_mode": {
    "name": "ipython",
    "version": 3
   },
   "file_extension": ".py",
   "mimetype": "text/x-python",
   "name": "python",
   "nbconvert_exporter": "python",
   "pygments_lexer": "ipython3",
   "version": "3.6.4"
  }
 },
 "nbformat": 4,
 "nbformat_minor": 2
}
