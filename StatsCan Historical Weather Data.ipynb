{
 "cells": [
  {
   "cell_type": "markdown",
   "metadata": {},
   "source": [
    "1.\tInstalling Cygwin. \n",
    "Further to downloading the compatible bit-version of Cygwin in your computer (32/64 bit), one of the reasons why the command line may not generate csv files with data is because there may a little installation missteps when setting up Cygwin. The following are some directions that you may follow in order to set the program properly and solve issues:\n",
    "\n",
    "-\tWhen prompt to the window “Available Download Sites” select the option “cygwin.mirrors.hoobly.com”\n",
    "\n",
    " \n",
    "\n",
    "\n",
    "\n",
    "\n",
    "\n",
    "\n",
    "\n",
    "\n",
    "\n",
    "\n",
    "\n",
    "\n",
    "\n",
    "-\tThen, at the step “Select Packages” during the installation process, Search for package “wget”, click on the web@default option and click on skip, and click next.\n",
    "\n",
    " \n",
    "\n",
    "2.\tUsing the full command line to extract data. The command line listed \n",
    "\n",
    "\n",
    "\n",
    "Run Cygwin terminal command: \n",
    "\n",
    "for year in `seq 2001 2018`;do for month in `seq 1 12`;do wget --content-disposition \"http://climate.weather.gc.ca/climate_data/bulk_data_e.html?format=csv&stationID=31688&Year=${year}&Month=${month}&Day=14&timeframe=1&submit= Download+Data\" ;done;done\n",
    "\n",
    "Copy data from c:\\cygwin64\\bin to data\n",
    "\n",
    "Run notebook cells below"
   ]
  },
  {
   "cell_type": "markdown",
   "metadata": {},
   "source": [
    "https://www.reddit.com/r/Python/comments/52sw9q/opening_a_cygwin_terminal_with_a_python_script/"
   ]
  },
  {
   "cell_type": "markdown",
   "metadata": {},
   "source": [
    "find way to change cygwin download directory to data directory"
   ]
  },
  {
   "cell_type": "code",
   "execution_count": 14,
   "metadata": {},
   "outputs": [],
   "source": [
    "import pandas as pd\n",
    "import numpy as np\n",
    "import sys, os, subprocess"
   ]
  },
  {
   "cell_type": "code",
   "execution_count": 2,
   "metadata": {},
   "outputs": [],
   "source": [
    "root = 'data/'\n",
    "filenames = []\n",
    "\n",
    "for path, subdirs, files in os.walk(root):\n",
    "    for name in files:\n",
    "        filenames.append(os.path.join(path, name))"
   ]
  },
  {
   "cell_type": "code",
   "execution_count": 5,
   "metadata": {},
   "outputs": [
    {
     "data": {
      "text/plain": [
       "['data/eng-hourly-01012001-01312001.csv',\n",
       " 'data/eng-hourly-01012002-01312002.csv',\n",
       " 'data/eng-hourly-01012003-01312003.csv',\n",
       " 'data/eng-hourly-01012004-01312004.csv',\n",
       " 'data/eng-hourly-01012005-01312005.csv']"
      ]
     },
     "execution_count": 5,
     "metadata": {},
     "output_type": "execute_result"
    }
   ],
   "source": [
    "filenames[0:5]"
   ]
  },
  {
   "cell_type": "code",
   "execution_count": 7,
   "metadata": {},
   "outputs": [],
   "source": [
    "df = pd.concat( [ pd.read_csv(f,skiprows=15) for f in filenames ] )"
   ]
  },
  {
   "cell_type": "code",
   "execution_count": 8,
   "metadata": {},
   "outputs": [
    {
     "name": "stdout",
     "output_type": "stream",
     "text": [
      "<class 'pandas.core.frame.DataFrame'>\n",
      "Int64Index: 157776 entries, 0 to 743\n",
      "Data columns (total 24 columns):\n",
      "Date/Time              157776 non-null object\n",
      "Year                   157776 non-null int64\n",
      "Month                  157776 non-null int64\n",
      "Day                    157776 non-null int64\n",
      "Time                   157776 non-null object\n",
      "Temp (°C)              138277 non-null float64\n",
      "Temp Flag              9 non-null object\n",
      "Dew Point Temp (°C)    138278 non-null float64\n",
      "Dew Point Temp Flag    8 non-null object\n",
      "Rel Hum (%)            138278 non-null float64\n",
      "Rel Hum Flag           8 non-null object\n",
      "Wind Dir (10s deg)     0 non-null float64\n",
      "Wind Dir Flag          137175 non-null object\n",
      "Wind Spd (km/h)        1387 non-null float64\n",
      "Wind Spd Flag          137175 non-null object\n",
      "Visibility (km)        0 non-null float64\n",
      "Visibility Flag        21006 non-null object\n",
      "Stn Press (kPa)        132626 non-null float64\n",
      "Stn Press Flag         5660 non-null object\n",
      "Hmdx                   23316 non-null float64\n",
      "Hmdx Flag              0 non-null float64\n",
      "Wind Chill             0 non-null float64\n",
      "Wind Chill Flag        0 non-null float64\n",
      "Weather                0 non-null float64\n",
      "dtypes: float64(12), int64(3), object(9)\n",
      "memory usage: 30.1+ MB\n"
     ]
    }
   ],
   "source": [
    "df.info()"
   ]
  },
  {
   "cell_type": "code",
   "execution_count": 18,
   "metadata": {},
   "outputs": [],
   "source": [
    "df.to_csv('weather_data_2002_2018.csv')"
   ]
  },
  {
   "cell_type": "code",
   "execution_count": null,
   "metadata": {},
   "outputs": [],
   "source": []
  }
 ],
 "metadata": {
  "kernelspec": {
   "display_name": "Python 3",
   "language": "python",
   "name": "python3"
  },
  "language_info": {
   "codemirror_mode": {
    "name": "ipython",
    "version": 3
   },
   "file_extension": ".py",
   "mimetype": "text/x-python",
   "name": "python",
   "nbconvert_exporter": "python",
   "pygments_lexer": "ipython3",
   "version": "3.6.4"
  }
 },
 "nbformat": 4,
 "nbformat_minor": 2
}
